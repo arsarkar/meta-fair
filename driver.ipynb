{
 "cells": [
  {
   "cell_type": "code",
   "execution_count": 3,
   "metadata": {},
   "outputs": [
    {
     "name": "stdout",
     "output_type": "stream",
     "text": [
      "Successfully saved ontology!\n",
      "Successfully saved ontology!\n"
     ]
    }
   ],
   "source": [
    "# Program 1: generate original and curated source file.\n",
    "def access(oname):\n",
    "    from access_token import AccessToken\n",
    "    t = AccessToken('http://data.agroportal.lirmm.fr','<access-token>')\n",
    "    from sem_art import Semart \n",
    "    s = Semart(t, oname)\n",
    "    from py4j.java_gateway import JavaGateway\n",
    "    gateway = JavaGateway()\n",
    "    # read the original ontology file\n",
    "    gateway.loadOntology(s.get_source())\n",
    "    # save the original ontology\n",
    "    st = gateway.saveOntology(\"src/test/resources/\"+oname+\"-orig.owl\")\n",
    "    print(st)\n",
    "    # remove all original metadata annotations\n",
    "    gateway.deleteAnnotations()\n",
    "    # get all metadata and annotate\n",
    "    for m in s.get_metadata():\n",
    "        ms = s.get_metadata_value(m)\n",
    "        # ignore if no value is curated for the metadata\n",
    "        if(ms[1]==None): \n",
    "            continue\n",
    "        # for 'contacts' only pick up the name    \n",
    "        if(m==\"contacts\"):\n",
    "            if(len(ms[1])==0):\n",
    "                continue\n",
    "            for mi in ms[1]:\n",
    "                print(str(ms[0]))\n",
    "                print(str(mi['name']))\n",
    "                gateway.addAnnotations(str(ms[0]), str(mi['name']))\n",
    "            continue\n",
    "        # for tuple or list metadata value assert annotations separately for each member\n",
    "        if type(ms[1]) is list or type(ms[1]) is tuple:\n",
    "            if(len(ms[1])==0):\n",
    "                continue\n",
    "            for mi in ms[1]:\n",
    "                gateway.addAnnotations(str(ms[0]), str(mi))\n",
    "            continue\n",
    "        # general singleton metadata \n",
    "        gateway.addAnnotations(str(ms[0]), str(ms[1]))\n",
    "    # save the curated ontology\n",
    "    st = gateway.saveOntology(\"src/test/resources/\"+oname+\"-curated.owl\")\n",
    "    print(st)\n",
    "ms = access(\"AGRO\")\n"
   ]
  }
 ],
 "metadata": {
  "kernelspec": {
   "display_name": "base",
   "language": "python",
   "name": "python3"
  },
  "language_info": {
   "codemirror_mode": {
    "name": "ipython",
    "version": 3
   },
   "file_extension": ".py",
   "mimetype": "text/x-python",
   "name": "python",
   "nbconvert_exporter": "python",
   "pygments_lexer": "ipython3",
   "version": "3.8.8"
  },
  "orig_nbformat": 4,
  "vscode": {
   "interpreter": {
    "hash": "f9043b5e151fa0b19e45c11fce316f9b58a4edc3d451b4009829641687adf66f"
   }
  }
 },
 "nbformat": 4,
 "nbformat_minor": 2
}
